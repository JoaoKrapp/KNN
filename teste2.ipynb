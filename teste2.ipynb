{
 "cells": [
  {
   "cell_type": "code",
   "execution_count": null,
   "id": "0236e2ca",
   "metadata": {},
   "outputs": [],
   "source": [
    "from knn import KNN, load_data\n",
    "import matplotlib.pyplot as plt\n",
    "import pandas as pd"
   ]
  },
  {
   "cell_type": "markdown",
   "id": "4e77b0b8",
   "metadata": {},
   "source": [
    "# Qual é a coluna mais importante?"
   ]
  },
  {
   "cell_type": "code",
   "execution_count": null,
   "id": "b7065feb",
   "metadata": {},
   "outputs": [],
   "source": [
    "q2data = {\n",
    "\t'column_removed' : [],\n",
    "\t'k' : [],\n",
    "\t'accuracy' : []\n",
    "}"
   ]
  },
  {
   "cell_type": "code",
   "execution_count": null,
   "id": "144869e5",
   "metadata": {},
   "outputs": [],
   "source": [
    "train_features, train_labels, test_features, test_labels = load_data('./dados/grupoDados2.mat')\n",
    "\n",
    "for col in train_features.columns:\n",
    "\tknn = KNN(train_features, train_labels, test_features, test_labels, columns_only=[col])\n",
    "\tk_tests = knn.run_range_k(15)\n",
    " \n",
    "\tfor i in range(len(k_tests['k'])):\n",
    "\t\tq2data['column_removed'].append(col)\n",
    "\t\tq2data['k'].append(k_tests['k'][i])\n",
    "\t\tq2data['accuracy'].append(k_tests['accuracy'][i])\n",
    "\t\t\t"
   ]
  }
 ],
 "metadata": {
  "kernelspec": {
   "display_name": "venv",
   "language": "python",
   "name": "python3"
  },
  "language_info": {
   "name": "python",
   "version": "3.12.10"
  }
 },
 "nbformat": 4,
 "nbformat_minor": 5
}
